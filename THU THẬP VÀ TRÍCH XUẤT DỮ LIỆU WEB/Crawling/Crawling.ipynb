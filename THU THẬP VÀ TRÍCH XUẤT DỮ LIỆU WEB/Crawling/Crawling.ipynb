{
 "cells": [
  {
   "cell_type": "code",
   "execution_count": 12,
   "metadata": {},
   "outputs": [
    {
     "name": "stdout",
     "output_type": "stream",
     "text": [
      "Đã cào xong 33 bài viết hợp lệ.\n"
     ]
    }
   ],
   "source": [
    "import os\n",
    "import requests\n",
    "from bs4 import BeautifulSoup\n",
    "\n",
    "def lấy_liên_kết_tiêu_đề(trang):\n",
    "    url = f\"https://techcrunch.com/tag/apple/page/{trang}\"\n",
    "    response = requests.get(url)\n",
    "    soup = BeautifulSoup(response.content, \"html.parser\")\n",
    "    \n",
    "    tiêu_đề_liên_kết = []\n",
    "    \n",
    "\n",
    "    for tiêu_đề in soup.find_all(\"div\", class_=\"wp-block-column is-layout-flow wp-block-column-is-layout-flow\"):\n",
    "        thẻ_a = tiêu_đề.find(\"a\", href=True)\n",
    "        if thẻ_a:\n",
    "            liên_kết = thẻ_a['href']\n",
    "            tiêu_đề_liên_kết.append(liên_kết)\n",
    "    \n",
    "    return tiêu_đề_liên_kết\n",
    "\n",
    "def lưu_tiêu_đề_và_tóm_tin(link, thư_mục_lưu):\n",
    "    response = requests.get(link)\n",
    "    if response.status_code == 200:\n",
    "        soup = BeautifulSoup(response.content, \"html.parser\")\n",
    "        \n",
    "        tiêu_đề = soup.find(\"h1\", class_=\"wp-block-post-title\")\n",
    "        tiêu_đề_văn_bản = tiêu_đề.get_text(strip=True) if tiêu_đề else None\n",
    "        \n",
    "        tóm_tin = soup.find(\"div\", class_=\"entry-content wp-block-post-content is-layout-flow wp-block-post-content-is-layout-flow\")\n",
    "        tóm_tin_văn_bản = tóm_tin.get_text(strip=True) if tóm_tin else None\n",
    "     \n",
    "        if tiêu_đề_văn_bản and tóm_tin_văn_bản:\n",
    "            return tiêu_đề_văn_bản, tóm_tin_văn_bản\n",
    "    return None, None\n",
    "\n",
    "\n",
    "def cào_và_lưu_tất_cả_trang(số_trang, thư_mục_lưu):\n",
    "    if not os.path.exists(thư_mục_lưu):\n",
    "        os.makedirs(thư_mục_lưu)\n",
    "    \n",
    "    idx = 1 \n",
    "    for trang in range(1, số_trang + 1):\n",
    "        liên_kết_trang = lấy_liên_kết_tiêu_đề(trang)\n",
    "        for link in liên_kết_trang:\n",
    "            tiêu_đề_văn_bản, tóm_tin_văn_bản = lưu_tiêu_đề_và_tóm_tin(link, thư_mục_lưu)\n",
    "            if tiêu_đề_văn_bản and tóm_tin_văn_bản:\n",
    "        \n",
    "                tên_file = f\"{idx}.txt\"\n",
    "                đường_dẫn_file = os.path.join(thư_mục_lưu, tên_file)\n",
    "                \n",
    "                with open(đường_dẫn_file, \"w\", encoding=\"utf-8\") as file:\n",
    "                    file.write(f\"{tiêu_đề_văn_bản}\\n\")\n",
    "                    file.write(f\"{tóm_tin_văn_bản}\\n\")\n",
    "                \n",
    "                idx += 1 \n",
    "    print(f\"Đã cào xong {idx-1} bài viết hợp lệ.\")\n",
    "\n",
    "số_trang = 1  \n",
    "thư_mục_lưu = \"D:/2627\"\n",
    "\n",
    "cào_và_lưu_tất_cả_trang(số_trang, thư_mục_lưu)\n"
   ]
  }
 ],
 "metadata": {
  "kernelspec": {
   "display_name": "Python 3",
   "language": "python",
   "name": "python3"
  },
  "language_info": {
   "codemirror_mode": {
    "name": "ipython",
    "version": 3
   },
   "file_extension": ".py",
   "mimetype": "text/x-python",
   "name": "python",
   "nbconvert_exporter": "python",
   "pygments_lexer": "ipython3",
   "version": "3.9.2rc1"
  }
 },
 "nbformat": 4,
 "nbformat_minor": 2
}
